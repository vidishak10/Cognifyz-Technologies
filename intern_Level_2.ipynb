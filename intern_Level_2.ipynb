{
  "nbformat": 4,
  "nbformat_minor": 0,
  "metadata": {
    "colab": {
      "provenance": []
    },
    "kernelspec": {
      "name": "python3",
      "display_name": "Python 3"
    },
    "language_info": {
      "name": "python"
    }
  },
  "cells": [
    {
      "cell_type": "code",
      "execution_count": null,
      "metadata": {
        "id": "J7IHuxfEI6cF"
      },
      "outputs": [],
      "source": [
        "#Task 1 : Table Booking and Online Delivery\n",
        "import pandas as pd\n",
        "# Load the CSV file into a DataFrame\n",
        "df = pd.read_csv('/content/Dataset  (1).csv')\n"
      ]
    },
    {
      "cell_type": "code",
      "source": [
        "print(df.dtypes)"
      ],
      "metadata": {
        "colab": {
          "base_uri": "https://localhost:8080/"
        },
        "id": "A7bOL8d1KT1W",
        "outputId": "cee2c5dd-c491-419f-c274-8f78c684ed77"
      },
      "execution_count": null,
      "outputs": [
        {
          "output_type": "stream",
          "name": "stdout",
          "text": [
            "Restaurant ID             int64\n",
            "Restaurant Name          object\n",
            "Country Code              int64\n",
            "City                     object\n",
            "Address                  object\n",
            "Locality                 object\n",
            "Locality Verbose         object\n",
            "Longitude               float64\n",
            "Latitude                float64\n",
            "Cuisines                 object\n",
            "Average Cost for two      int64\n",
            "Currency                 object\n",
            "Has Table booking        object\n",
            "Has Online delivery      object\n",
            "Is delivering now        object\n",
            "Switch to order menu     object\n",
            "Price range               int64\n",
            "Aggregate rating        float64\n",
            "Rating color             object\n",
            "Rating text              object\n",
            "Votes                     int64\n",
            "dtype: object\n"
          ]
        }
      ]
    },
    {
      "cell_type": "code",
      "source": [
        "# Convert 'Has Table booking' and 'Has Online delivery' to boolean values if they are strings\n",
        "df['Has Table booking'] = df['Has Table booking'].map({'Yes': True, 'No': False})\n",
        "df['Has Online delivery'] = df['Has Online delivery'].map({'Yes': True, 'No': False})\n",
        "\n",
        "# Convert to boolean if they are not already\n",
        "df['Has Table booking'] = df['Has Table booking'].astype(bool)\n",
        "df['Has Online delivery'] = df['Has Online delivery'].astype(bool)\n"
      ],
      "metadata": {
        "id": "zBNmGwElKrG7"
      },
      "execution_count": null,
      "outputs": []
    },
    {
      "cell_type": "code",
      "source": [
        "# Calculate the percentage of restaurants offering table booking\n",
        "table_booking_percentage = (df['Has Table booking'].sum() / len(df)) * 100\n",
        "\n",
        "# Calculate the percentage of restaurants offering online delivery\n",
        "online_delivery_percentage = (df['Has Online delivery'].sum() / len(df)) * 100\n",
        "\n",
        "print(f\"Percentage of restaurants offering table booking: {table_booking_percentage:.2f}%\")\n",
        "print(f\"Percentage of restaurants offering online delivery: {online_delivery_percentage:.2f}%\")\n"
      ],
      "metadata": {
        "colab": {
          "base_uri": "https://localhost:8080/"
        },
        "id": "wnoCES5LKtRd",
        "outputId": "7f3d3b39-6217-4d07-f0a1-87fdeed73dff"
      },
      "execution_count": null,
      "outputs": [
        {
          "output_type": "stream",
          "name": "stdout",
          "text": [
            "Percentage of restaurants offering table booking: 12.12%\n",
            "Percentage of restaurants offering online delivery: 25.66%\n"
          ]
        }
      ]
    },
    {
      "cell_type": "code",
      "source": [
        "# Group by 'Has Table booking' and calculate the average rating for each group\n",
        "avg_rating_table_booking = df.groupby('Has Table booking')['Aggregate rating'].mean()\n",
        "\n",
        "print(\"Average ratings:\")\n",
        "print(avg_rating_table_booking)\n"
      ],
      "metadata": {
        "colab": {
          "base_uri": "https://localhost:8080/"
        },
        "id": "1-KtO8oGK4RR",
        "outputId": "cc6cdaaa-f59c-428a-9574-5d2084558f8f"
      },
      "execution_count": null,
      "outputs": [
        {
          "output_type": "stream",
          "name": "stdout",
          "text": [
            "Average ratings:\n",
            "Has Table booking\n",
            "False    2.559359\n",
            "True     3.441969\n",
            "Name: Aggregate rating, dtype: float64\n"
          ]
        }
      ]
    },
    {
      "cell_type": "code",
      "source": [
        "# Group by 'Price range' and calculate the percentage of restaurants with online delivery in each group\n",
        "online_delivery_by_price = df.groupby('Price range')['Has Online delivery'].mean() * 100\n",
        "\n",
        "print(\"Percentage of restaurants with online delivery by price range:\")\n",
        "print(online_delivery_by_price)\n"
      ],
      "metadata": {
        "colab": {
          "base_uri": "https://localhost:8080/"
        },
        "id": "BLHxgjLNLAMO",
        "outputId": "862df398-a564-4c31-9cf5-f823d2c09d4b"
      },
      "execution_count": null,
      "outputs": [
        {
          "output_type": "stream",
          "name": "stdout",
          "text": [
            "Percentage of restaurants with online delivery by price range:\n",
            "Price range\n",
            "1    15.774077\n",
            "2    41.310633\n",
            "3    29.190341\n",
            "4     9.044369\n",
            "Name: Has Online delivery, dtype: float64\n"
          ]
        }
      ]
    },
    {
      "cell_type": "markdown",
      "source": [
        "# Task_2: Price Range Analysis\n"
      ],
      "metadata": {
        "id": "g1lKraNrLR_h"
      }
    },
    {
      "cell_type": "code",
      "source": [
        "# Determine the most common price range among all restaurants\n",
        "most_common_price_range = df['Price range'].mode()[0]\n",
        "print(f\"Most common price range: {most_common_price_range}\")\n"
      ],
      "metadata": {
        "colab": {
          "base_uri": "https://localhost:8080/"
        },
        "id": "0cZIawexLW1F",
        "outputId": "990041b6-9e19-4ff7-f7d8-d082a519abac"
      },
      "execution_count": null,
      "outputs": [
        {
          "output_type": "stream",
          "name": "stdout",
          "text": [
            "Most common price range: 1\n"
          ]
        }
      ]
    },
    {
      "cell_type": "code",
      "source": [
        "# Calculate average rating for each price range\n",
        "average_rating_by_price_range = df.groupby('Price range')['Aggregate rating'].mean()\n",
        "print(\"Average rating for each price range:\")\n",
        "print(average_rating_by_price_range)\n"
      ],
      "metadata": {
        "colab": {
          "base_uri": "https://localhost:8080/"
        },
        "id": "jVoNnWqDLhpb",
        "outputId": "992a4cb9-1f5f-42b2-c190-0de585ec1616"
      },
      "execution_count": null,
      "outputs": [
        {
          "output_type": "stream",
          "name": "stdout",
          "text": [
            "Average rating for each price range:\n",
            "Price range\n",
            "1    1.999887\n",
            "2    2.941054\n",
            "3    3.683381\n",
            "4    3.817918\n",
            "Name: Aggregate rating, dtype: float64\n"
          ]
        }
      ]
    },
    {
      "cell_type": "code",
      "source": [
        "# Find the price range with the highest average rating\n",
        "highest_rating_price_range = average_rating_by_price_range.idxmax()\n",
        "\n",
        "# Get the corresponding color\n",
        "highest_rating_color = df[df['Price range'] == highest_rating_price_range]['Rating color'].iloc[0]\n",
        "\n",
        "print(f\"The price range '{highest_rating_price_range}' has the highest average rating.\")\n",
        "print(f\"The color representing the highest average rating is '{highest_rating_color}'.\")\n"
      ],
      "metadata": {
        "colab": {
          "base_uri": "https://localhost:8080/"
        },
        "id": "5_wba9p5LlIQ",
        "outputId": "b96c018b-d2b4-47db-e728-a39daf374d2f"
      },
      "execution_count": null,
      "outputs": [
        {
          "output_type": "stream",
          "name": "stdout",
          "text": [
            "The price range '4' has the highest average rating.\n",
            "The color representing the highest average rating is 'Green'.\n"
          ]
        }
      ]
    },
    {
      "cell_type": "markdown",
      "source": [
        "# Task_3: Feature Engineering\n"
      ],
      "metadata": {
        "id": "PvWPlxqbLvLD"
      }
    },
    {
      "cell_type": "code",
      "source": [
        "# Extract additional features: Length of restaurant name and address\n",
        "df['Restaurant Name Length'] = df['Restaurant Name'].apply(len)\n",
        "df['Address Length'] = df['Address'].apply(len)\n",
        "\n",
        "# Display the first few rows to verify the new features\n",
        "print(df[['Restaurant Name', 'Restaurant Name Length', 'Address', 'Address Length']].head())\n"
      ],
      "metadata": {
        "colab": {
          "base_uri": "https://localhost:8080/"
        },
        "id": "d_9_gEXfLzBY",
        "outputId": "7995253a-b5c7-4989-a43c-4ca32753a832"
      },
      "execution_count": null,
      "outputs": [
        {
          "output_type": "stream",
          "name": "stdout",
          "text": [
            "          Restaurant Name  Restaurant Name Length  \\\n",
            "0        Le Petit Souffle                      16   \n",
            "1        Izakaya Kikufuji                      16   \n",
            "2  Heat - Edsa Shangri-La                      22   \n",
            "3                    Ooma                       4   \n",
            "4             Sambo Kojin                      11   \n",
            "\n",
            "                                             Address  Address Length  \n",
            "0  Third Floor, Century City Mall, Kalayaan Avenu...              71  \n",
            "1  Little Tokyo, 2277 Chino Roces Avenue, Legaspi...              67  \n",
            "2  Edsa Shangri-La, 1 Garden Way, Ortigas, Mandal...              56  \n",
            "3  Third Floor, Mega Fashion Hall, SM Megamall, O...              70  \n",
            "4  Third Floor, Mega Atrium, SM Megamall, Ortigas...              64  \n"
          ]
        }
      ]
    },
    {
      "cell_type": "code",
      "source": [
        "# Create new binary features by encoding categorical variables\n",
        "df['Has Table Booking'] = (df['Has Table booking'] == 'Yes').astype(int)\n",
        "df['Has Online Delivery'] = (df['Has Online delivery'] == 'Yes').astype(int)\n",
        "\n",
        "# Display the first few rows to verify the new features\n",
        "print(df[['Has Table booking', 'Has Table Booking', 'Has Online delivery', 'Has Online Delivery']].head())\n"
      ],
      "metadata": {
        "colab": {
          "base_uri": "https://localhost:8080/"
        },
        "id": "izwNKaiML7Pt",
        "outputId": "f680794c-a9ed-42a7-c465-18b07960315a"
      },
      "execution_count": null,
      "outputs": [
        {
          "output_type": "stream",
          "name": "stdout",
          "text": [
            "   Has Table booking  Has Table Booking  Has Online delivery  \\\n",
            "0               True                  0                False   \n",
            "1               True                  0                False   \n",
            "2               True                  0                False   \n",
            "3              False                  0                False   \n",
            "4               True                  0                False   \n",
            "\n",
            "   Has Online Delivery  \n",
            "0                    0  \n",
            "1                    0  \n",
            "2                    0  \n",
            "3                    0  \n",
            "4                    0  \n"
          ]
        }
      ]
    }
  ]
}